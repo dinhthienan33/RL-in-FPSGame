{
 "cells": [
  {
   "cell_type": "code",
   "execution_count": 1,
   "metadata": {},
   "outputs": [
    {
     "name": "stderr",
     "output_type": "stream",
     "text": [
      "fatal: destination path 'ViZDoom' already exists and is not an empty directory.\n"
     ]
    }
   ],
   "source": [
    "!cd github & git clone https://github.com/Farama-Foundation/ViZDoom"
   ]
  },
  {
   "cell_type": "code",
   "execution_count": 2,
   "metadata": {},
   "outputs": [],
   "source": [
    "from vizdoom import *\n",
    "import random\n",
    "import time\n",
    "import numpy as np"
   ]
  },
  {
   "cell_type": "code",
   "execution_count": 23,
   "metadata": {},
   "outputs": [],
   "source": [
    "game=DoomGame()\n",
    "game.load_config(\"github/ViZDoom/scenarios/basic.cfg\")\n",
    "game.init()"
   ]
  },
  {
   "cell_type": "code",
   "execution_count": 24,
   "metadata": {},
   "outputs": [],
   "source": [
    "actions=np.identity(3,dtype=np.uint8)\n"
   ]
  },
  {
   "cell_type": "code",
   "execution_count": 25,
   "metadata": {},
   "outputs": [
    {
     "data": {
      "text/plain": [
       "array([[1, 0, 0],\n",
       "       [0, 1, 0],\n",
       "       [0, 0, 1]], dtype=uint8)"
      ]
     },
     "execution_count": 25,
     "metadata": {},
     "output_type": "execute_result"
    }
   ],
   "source": [
    "actions"
   ]
  },
  {
   "cell_type": "code",
   "execution_count": 26,
   "metadata": {},
   "outputs": [
    {
     "data": {
      "text/plain": [
       "array([1, 0, 0], dtype=uint8)"
      ]
     },
     "execution_count": 26,
     "metadata": {},
     "output_type": "execute_result"
    }
   ],
   "source": [
    "random.choice(actions)"
   ]
  },
  {
   "cell_type": "code",
   "execution_count": 27,
   "metadata": {},
   "outputs": [],
   "source": [
    "game.new_episode()"
   ]
  },
  {
   "cell_type": "code",
   "execution_count": 28,
   "metadata": {},
   "outputs": [
    {
     "data": {
      "text/plain": [
       "-1.0"
      ]
     },
     "execution_count": 28,
     "metadata": {},
     "output_type": "execute_result"
    }
   ],
   "source": [
    "game.make_action(random.choice(actions))"
   ]
  },
  {
   "cell_type": "code",
   "execution_count": 29,
   "metadata": {},
   "outputs": [],
   "source": [
    "state=game.get_state()"
   ]
  },
  {
   "cell_type": "code",
   "execution_count": 30,
   "metadata": {},
   "outputs": [
    {
     "data": {
      "text/plain": [
       "array([[[35, 39, 39, ..., 39, 39, 39],\n",
       "        [59, 67, 59, ..., 67, 67, 91],\n",
       "        [79, 79, 79, ..., 79, 91, 91],\n",
       "        ...,\n",
       "        [19, 19, 11, ..., 47, 47, 55],\n",
       "        [19, 27, 19, ..., 47, 47, 47],\n",
       "        [11, 19, 19, ..., 27, 19, 19]],\n",
       "\n",
       "       [[35, 39, 39, ..., 39, 39, 39],\n",
       "        [59, 67, 59, ..., 67, 67, 91],\n",
       "        [79, 79, 79, ..., 79, 91, 91],\n",
       "        ...,\n",
       "        [19, 19, 11, ..., 47, 47, 55],\n",
       "        [19, 27, 19, ..., 47, 47, 47],\n",
       "        [11, 19, 19, ..., 27, 19, 19]],\n",
       "\n",
       "       [[35, 39, 39, ..., 39, 39, 39],\n",
       "        [59, 67, 59, ..., 67, 67, 91],\n",
       "        [79, 79, 79, ..., 79, 91, 91],\n",
       "        ...,\n",
       "        [19, 19, 11, ..., 47, 47, 55],\n",
       "        [19, 27, 19, ..., 47, 47, 47],\n",
       "        [11, 19, 19, ..., 27, 19, 19]]], dtype=uint8)"
      ]
     },
     "execution_count": 30,
     "metadata": {},
     "output_type": "execute_result"
    }
   ],
   "source": [
    "state.screen_buffer"
   ]
  },
  {
   "cell_type": "code",
   "execution_count": 9,
   "metadata": {},
   "outputs": [
    {
     "name": "stdout",
     "output_type": "stream",
     "text": [
      "reward -1.0\n",
      "reward -1.0\n",
      "reward -1.0\n",
      "reward -1.0\n",
      "reward -1.0\n",
      "reward 100.0\n",
      "reward -1.0\n",
      "Result: 94.0\n",
      "reward -1.0\n",
      "reward -1.0\n",
      "reward -1.0\n",
      "reward -1.0\n",
      "reward -1.0\n",
      "reward -1.0\n",
      "reward -6.0\n",
      "reward -1.0\n",
      "reward -1.0\n",
      "reward -1.0\n",
      "reward -1.0\n",
      "reward -1.0\n",
      "reward -1.0\n",
      "reward -1.0\n",
      "reward -1.0\n",
      "reward -1.0\n",
      "reward -1.0\n",
      "reward -1.0\n",
      "reward -1.0\n",
      "reward -1.0\n",
      "reward -1.0\n",
      "reward -1.0\n",
      "reward -1.0\n",
      "reward -1.0\n",
      "reward -1.0\n",
      "reward -1.0\n",
      "reward -6.0\n",
      "reward -1.0\n",
      "reward -1.0\n",
      "reward -1.0\n",
      "reward -1.0\n",
      "reward -1.0\n",
      "reward -1.0\n",
      "reward -1.0\n",
      "reward -1.0\n",
      "reward -1.0\n",
      "reward -1.0\n",
      "reward -1.0\n",
      "reward -1.0\n",
      "reward -1.0\n",
      "reward -1.0\n",
      "reward -1.0\n",
      "reward -1.0\n",
      "reward -1.0\n",
      "reward -1.0\n",
      "reward -1.0\n",
      "reward 100.0\n",
      "reward -1.0\n",
      "Result: 43.0\n",
      "reward -1.0\n",
      "reward -1.0\n",
      "reward -1.0\n",
      "reward -1.0\n",
      "reward -1.0\n",
      "reward 100.0\n",
      "reward -1.0\n",
      "Result: 94.0\n",
      "reward -1.0\n",
      "reward -1.0\n",
      "reward -1.0\n",
      "reward -1.0\n",
      "reward -1.0\n",
      "reward -1.0\n",
      "reward -1.0\n",
      "reward -1.0\n",
      "reward -1.0\n",
      "reward -6.0\n",
      "reward -1.0\n",
      "reward -1.0\n",
      "reward -1.0\n",
      "reward -1.0\n",
      "reward -1.0\n",
      "reward -1.0\n",
      "reward -1.0\n",
      "reward -1.0\n",
      "reward -1.0\n",
      "reward -1.0\n",
      "reward -1.0\n",
      "reward -1.0\n",
      "reward -1.0\n",
      "reward -1.0\n",
      "reward -1.0\n",
      "reward -1.0\n",
      "reward -1.0\n",
      "reward -1.0\n",
      "reward -6.0\n",
      "reward -1.0\n",
      "reward -1.0\n",
      "reward -1.0\n",
      "reward -1.0\n",
      "reward -1.0\n",
      "reward -1.0\n",
      "reward -1.0\n",
      "reward -1.0\n",
      "reward -1.0\n",
      "reward -1.0\n",
      "reward -1.0\n",
      "reward -1.0\n",
      "reward -1.0\n",
      "reward -1.0\n",
      "reward -1.0\n",
      "reward -1.0\n",
      "reward -1.0\n",
      "reward -1.0\n",
      "reward -1.0\n",
      "reward -1.0\n",
      "reward -1.0\n",
      "reward -6.0\n",
      "reward -1.0\n",
      "reward -1.0\n",
      "reward -1.0\n",
      "reward -1.0\n",
      "reward -1.0\n",
      "reward -1.0\n",
      "reward -1.0\n",
      "reward -1.0\n",
      "reward -1.0\n",
      "reward -1.0\n",
      "reward -1.0\n",
      "reward -1.0\n",
      "reward -1.0\n",
      "reward -6.0\n",
      "reward -1.0\n",
      "reward -1.0\n",
      "reward -1.0\n",
      "reward -1.0\n",
      "reward -1.0\n",
      "reward -1.0\n",
      "reward -1.0\n",
      "reward -1.0\n",
      "reward -1.0\n",
      "reward -1.0\n",
      "reward -1.0\n",
      "reward -1.0\n",
      "reward -1.0\n",
      "reward -1.0\n",
      "reward -1.0\n",
      "reward -1.0\n",
      "reward -1.0\n",
      "reward -1.0\n",
      "reward -1.0\n",
      "reward -1.0\n",
      "reward -1.0\n",
      "reward -1.0\n",
      "reward -1.0\n",
      "reward -1.0\n",
      "reward -6.0\n",
      "reward -1.0\n",
      "reward -1.0\n",
      "reward -1.0\n",
      "reward -1.0\n",
      "reward -1.0\n",
      "reward -1.0\n",
      "reward -1.0\n",
      "reward -1.0\n",
      "reward -1.0\n",
      "reward -1.0\n",
      "reward -1.0\n",
      "reward -1.0\n",
      "reward -1.0\n",
      "reward -1.0\n",
      "reward -1.0\n",
      "reward -1.0\n",
      "reward -1.0\n",
      "reward -1.0\n",
      "reward -1.0\n",
      "reward -1.0\n",
      "reward -6.0\n",
      "reward -1.0\n",
      "reward -1.0\n",
      "reward -1.0\n",
      "reward -1.0\n",
      "reward -1.0\n",
      "reward -1.0\n",
      "reward -1.0\n",
      "reward -1.0\n",
      "reward -1.0\n",
      "reward -1.0\n",
      "reward -1.0\n",
      "reward -1.0\n",
      "reward -1.0\n",
      "reward -1.0\n",
      "reward -1.0\n",
      "reward -1.0\n",
      "reward -1.0\n",
      "reward -1.0\n",
      "reward -1.0\n",
      "reward 100.0\n",
      "reward -1.0\n",
      "Result: -61.0\n",
      "reward -1.0\n",
      "reward -1.0\n",
      "reward -1.0\n",
      "reward -1.0\n",
      "reward 100.0\n",
      "reward -1.0\n",
      "Result: 95.0\n",
      "reward -1.0\n",
      "reward -1.0\n",
      "reward -1.0\n",
      "reward -1.0\n",
      "reward -1.0\n",
      "reward -6.0\n",
      "reward -1.0\n",
      "reward -1.0\n",
      "reward -1.0\n",
      "reward -1.0\n",
      "reward -1.0\n",
      "reward -1.0\n",
      "reward -1.0\n",
      "reward -1.0\n",
      "reward -1.0\n",
      "reward -1.0\n",
      "reward -1.0\n",
      "reward -1.0\n",
      "reward -1.0\n",
      "reward -1.0\n",
      "reward -1.0\n",
      "reward -1.0\n",
      "reward -1.0\n",
      "reward -1.0\n",
      "reward 100.0\n",
      "reward -1.0\n",
      "Result: 70.0\n",
      "reward -1.0\n",
      "reward -1.0\n",
      "reward -1.0\n",
      "reward -1.0\n",
      "reward -1.0\n",
      "reward -1.0\n",
      "reward -1.0\n",
      "reward -1.0\n",
      "reward -1.0\n",
      "reward -6.0\n",
      "reward -1.0\n",
      "reward -1.0\n",
      "reward -1.0\n",
      "reward -1.0\n",
      "reward -1.0\n",
      "reward -1.0\n",
      "reward -1.0\n",
      "reward -1.0\n",
      "reward -1.0\n",
      "reward -1.0\n",
      "reward -1.0\n",
      "reward -1.0\n",
      "reward -1.0\n",
      "reward -1.0\n",
      "reward -1.0\n",
      "reward -1.0\n",
      "reward -1.0\n",
      "reward -1.0\n",
      "reward 100.0\n",
      "reward -1.0\n",
      "Result: 66.0\n",
      "reward -1.0\n",
      "reward -1.0\n",
      "reward -1.0\n",
      "reward -1.0\n",
      "reward 100.0\n",
      "reward -1.0\n",
      "Result: 95.0\n",
      "reward -1.0\n",
      "reward -1.0\n",
      "reward -1.0\n",
      "reward -1.0\n",
      "reward -1.0\n",
      "reward 100.0\n",
      "reward -1.0\n",
      "Result: 94.0\n",
      "reward -1.0\n",
      "reward -1.0\n",
      "reward -1.0\n",
      "reward -1.0\n",
      "reward 100.0\n",
      "reward -1.0\n",
      "Result: 95.0\n"
     ]
    }
   ],
   "source": [
    "episodes = 10\n",
    "for i in range(episodes):\n",
    "    game.new_episode()\n",
    "    while not game.is_episode_finished():\n",
    "        \n",
    "        state=game.get_state()\n",
    "        img=state.screen_buffer\n",
    "        info=state.game_variables\n",
    "        reward=game.make_action(random.choice(actions),4)\n",
    "        print('reward', reward)\n",
    "        time.sleep(0.02)\n",
    "    print (\"Result:\", game.get_total_reward())\n",
    "    time.sleep(2)\n",
    "        \n",
    "        "
   ]
  },
  {
   "cell_type": "code",
   "execution_count": 14,
   "metadata": {},
   "outputs": [],
   "source": [
    "from gym import Env\n",
    "from gym.spaces import Discrete,Box\n",
    "import cv2"
   ]
  },
  {
   "cell_type": "code",
   "execution_count": 31,
   "metadata": {},
   "outputs": [
    {
     "data": {
      "text/plain": [
       "(3, 240, 320)"
      ]
     },
     "execution_count": 31,
     "metadata": {},
     "output_type": "execute_result"
    }
   ],
   "source": [
    "state=game.get_state()\n",
    "state.screen_buffer.shape"
   ]
  },
  {
   "cell_type": "markdown",
   "metadata": {},
   "source": []
  },
  {
   "cell_type": "code",
   "execution_count": null,
   "metadata": {},
   "outputs": [],
   "source": [
    "# Create Vizdoom OpenAI Gym Environment\n",
    "class VizDoomGym(Env): \n",
    "    # Function that is called when we start the env\n",
    "    def __init__(self, render=False): \n",
    "        # Inherit from Env\n",
    "        super().__init__()\n",
    "        # Setup the game \n",
    "        self.game = DoomGame()\n",
    "        self.game.load_config('github/VizDoom/scenarios/basic.cfg')\n",
    "        \n",
    "        # Render frame logic\n",
    "        if render == False: \n",
    "            self.game.set_window_visible(False)\n",
    "        else:\n",
    "            self.game.set_window_visible(True)\n",
    "        \n",
    "        # Start the game \n",
    "        self.game.init()\n",
    "        \n",
    "        # Create the action space and observation space\n",
    "        self.observation_space = Box(low=0, high=255, shape=(100,160,1), dtype=np.uint8) \n",
    "        self.action_space = Discrete(3)\n",
    "        \n",
    "    # This is how we take a step in the environment\n",
    "    def step(self, action):\n",
    "        # Specify action and take step \n",
    "        actions = np.identity(3)\n",
    "        reward = self.game.make_action(actions[action], 4) \n",
    "        \n",
    "        # Get all the other stuff we need to retun \n",
    "        if self.game.get_state(): \n",
    "            state = self.game.get_state().screen_buffer\n",
    "            state = self.grayscale(state)\n",
    "            ammo = self.game.get_state().game_variables[0]\n",
    "            info = ammo\n",
    "        else: \n",
    "            state = np.zeros(self.observation_space.shape)\n",
    "            info = 0 \n",
    "        \n",
    "        info = {\"info\":info}\n",
    "        done = self.game.is_episode_finished()\n",
    "        \n",
    "        return state, reward, done, info \n",
    "    \n",
    "    # Define how to render the game or environment \n",
    "    def render(): \n",
    "        pass\n",
    "    \n",
    "    # What happens when we start a new game \n",
    "    def reset(self): \n",
    "        self.game.new_episode()\n",
    "        state = self.game.get_state().screen_buffer\n",
    "        return self.grayscale(state)\n",
    "    \n",
    "    # Grayscale the game frame and resize it \n",
    "    def grayscale(self, observation):\n",
    "        gray = cv2.cvtColor(np.moveaxis(observation, 0, -1), cv2.COLOR_BGR2GRAY)\n",
    "        resize = cv2.resize(gray, (160,100), interpolation=cv2.INTER_CUBIC)\n",
    "        state = np.reshape(resize, (100,160,1))\n",
    "        return state\n",
    "    \n",
    "    # Call to close down the game\n",
    "    def close(self): \n",
    "        self.game.close()"
   ]
  },
  {
   "cell_type": "code",
   "execution_count": null,
   "metadata": {},
   "outputs": [],
   "source": [
    "env = VizDoomGym(render=True)"
   ]
  },
  {
   "cell_type": "code",
   "execution_count": null,
   "metadata": {},
   "outputs": [],
   "source": [
    "state = env.reset()"
   ]
  },
  {
   "cell_type": "code",
   "execution_count": null,
   "metadata": {},
   "outputs": [],
   "source": []
  }
 ],
 "metadata": {
  "kernelspec": {
   "display_name": "RLenv",
   "language": "python",
   "name": "python3"
  },
  "language_info": {
   "codemirror_mode": {
    "name": "ipython",
    "version": 3
   },
   "file_extension": ".py",
   "mimetype": "text/x-python",
   "name": "python",
   "nbconvert_exporter": "python",
   "pygments_lexer": "ipython3",
   "version": "3.8.19"
  }
 },
 "nbformat": 4,
 "nbformat_minor": 2
}
